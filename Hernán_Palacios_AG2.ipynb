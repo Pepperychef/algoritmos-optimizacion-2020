{
  "nbformat": 4,
  "nbformat_minor": 0,
  "metadata": {
    "colab": {
      "name": "Hernán Palacios - AG2.ipynb",
      "provenance": [],
      "toc_visible": true,
      "authorship_tag": "ABX9TyNgBDYeLlMf8TYGjRZkd15g",
      "include_colab_link": true
    },
    "kernelspec": {
      "name": "python3",
      "display_name": "Python 3"
    }
  },
  "cells": [
    {
      "cell_type": "markdown",
      "metadata": {
        "id": "view-in-github",
        "colab_type": "text"
      },
      "source": [
        "<a href=\"https://colab.research.google.com/github/Pepperychef/algoritmos-optimizacion-2020/blob/main/Hern%C3%A1n_Palacios_AG2.ipynb\" target=\"_parent\"><img src=\"https://colab.research.google.com/assets/colab-badge.svg\" alt=\"Open In Colab\"/></a>"
      ]
    },
    {
      "cell_type": "markdown",
      "metadata": {
        "id": "B325O9ERjYgy"
      },
      "source": [
        "#Actividad Guiada 2 de Algoritmos de Optimizacion\r\n",
        "Hernán Palacios Domínguez\r\n",
        "\r\n",
        "https://colab.research.google.com/drive/1xmFB4VmcYOFBhBMfiPdyx4gTXs7pb4Hz?usp=sharing\r\n",
        "\r\n",
        "https://github.com/Pepperychef/algoritmos-optimizacion-2020"
      ]
    },
    {
      "cell_type": "code",
      "metadata": {
        "id": "QwAWpCC5jloH"
      },
      "source": [
        "#Viaje por el rio"
      ],
      "execution_count": null,
      "outputs": []
    },
    {
      "cell_type": "code",
      "metadata": {
        "id": "z7xQYIrZjozT"
      },
      "source": [
        "import math"
      ],
      "execution_count": 1,
      "outputs": []
    },
    {
      "cell_type": "code",
      "metadata": {
        "id": "r2U8PM-1jr4m"
      },
      "source": [
        "tarifas = [\r\n",
        "[0,5,4,3,999,999,999],   #desde nodo 0\r\n",
        "[999,0,999,2,3,999,11],  #desde nodo 1\r\n",
        "[999,999, 0,1,999,4,10], #desde nodo 2\r\n",
        "[999,999,999, 0,5,6,9],\r\n",
        "[999,999, 999,999,0,999,4],\r\n",
        "[999,999, 999,999,999,0,3],\r\n",
        "[999,999,999,999,999,999,0]\r\n",
        "]"
      ],
      "execution_count": 8,
      "outputs": []
    },
    {
      "cell_type": "code",
      "metadata": {
        "id": "eMGdugqJjwFf"
      },
      "source": [
        "def preciosDef(tarifas):\r\n",
        "  #Total de Nodos\r\n",
        "  N = len(tarifas[0])\r\n",
        "\r\n",
        "  precios = [ [9999]*N for i in [9999]*N]  #n x n \r\n",
        "  ruta = [ [\"\"]*N for i in [\"\"]*N]\r\n",
        "  \r\n",
        "  for i in range(N-1):\r\n",
        "    for j in range(i+1, N):\r\n",
        "      minimo = tarifas[i][j]\r\n",
        "      ruta[i][j] = i\r\n",
        "      for k in range(i, j):\r\n",
        "        if precios[i][k] + tarifas[k][j] < minimo:\r\n",
        "            minimo = min(minimo, precios[i][k] + tarifas[k][j] )\r\n",
        "            ruta[i][j] = k\r\n",
        "        precios[i][j] = minimo\r\n",
        "        \r\n",
        "  return precios,ruta"
      ],
      "execution_count": 11,
      "outputs": []
    },
    {
      "cell_type": "code",
      "metadata": {
        "colab": {
          "base_uri": "https://localhost:8080/"
        },
        "id": "IWVcl1yIkOAM",
        "outputId": "622ad67d-d04a-4603-db9b-64f79ba1f442"
      },
      "source": [
        "precios,ruta = preciosDef(tarifas)  \r\n",
        "#print(PRECIOS[0][6])\r\n",
        "\r\n",
        "print(\"precios\")\r\n",
        "for i in range(len(tarifas)):\r\n",
        "  print(precios[i])\r\n",
        "\r\n",
        "print(\"\\nRUTA\")  \r\n",
        "for i in range(len(tarifas)):\r\n",
        "  print(ruta[i])"
      ],
      "execution_count": 12,
      "outputs": [
        {
          "output_type": "stream",
          "text": [
            "precios\n",
            "[9999, 5, 4, 3, 8, 8, 11]\n",
            "[9999, 9999, 999, 2, 3, 8, 7]\n",
            "[9999, 9999, 9999, 1, 6, 4, 7]\n",
            "[9999, 9999, 9999, 9999, 5, 6, 9]\n",
            "[9999, 9999, 9999, 9999, 9999, 999, 4]\n",
            "[9999, 9999, 9999, 9999, 9999, 9999, 3]\n",
            "[9999, 9999, 9999, 9999, 9999, 9999, 9999]\n",
            "\n",
            "RUTA\n",
            "['', 0, 0, 0, 1, 2, 5]\n",
            "['', '', 1, 1, 1, 3, 4]\n",
            "['', '', '', 2, 3, 2, 5]\n",
            "['', '', '', '', 3, 3, 3]\n",
            "['', '', '', '', '', 4, 4]\n",
            "['', '', '', '', '', '', 5]\n",
            "['', '', '', '', '', '', '']\n"
          ],
          "name": "stdout"
        }
      ]
    },
    {
      "cell_type": "code",
      "metadata": {
        "colab": {
          "base_uri": "https://localhost:8080/",
          "height": 72
        },
        "id": "VHe6vYKdlkfq",
        "outputId": "1350772c-db0e-4a25-b40f-c265ecea603a"
      },
      "source": [
        "\r\n",
        "def calcularRuta(ruta, desde, hasta):\r\n",
        "  if desde == hasta:\r\n",
        "    #print(\"Ir a :\" + str(desde))\r\n",
        "    return desde \r\n",
        "  else:\r\n",
        "    return str(calcularRuta(ruta, desde, ruta[desde][hasta])) +  ',' + str(ruta[desde][hasta]) \r\n",
        "\r\n",
        "print(\"\\nLa ruta es:\")  \r\n",
        "calcularRuta(ruta, 0,6)\r\n",
        "\r\n"
      ],
      "execution_count": 13,
      "outputs": [
        {
          "output_type": "stream",
          "text": [
            "\n",
            "La ruta es:\n"
          ],
          "name": "stdout"
        },
        {
          "output_type": "execute_result",
          "data": {
            "application/vnd.google.colaboratory.intrinsic+json": {
              "type": "string"
            },
            "text/plain": [
              "'0,0,2,5'"
            ]
          },
          "metadata": {
            "tags": []
          },
          "execution_count": 13
        }
      ]
    },
    {
      "cell_type": "markdown",
      "metadata": {
        "id": "7E3lS4ADlxJD"
      },
      "source": [
        "\r\n",
        "##Problema de Asignacion de tarea\r\n",
        "\r\n",
        "(Ramificación y poda)\r\n"
      ]
    },
    {
      "cell_type": "code",
      "metadata": {
        "id": "6NZP-SaEmD8H"
      },
      "source": [
        "costes=[[11,12,18,40],\r\n",
        "        [14,15,13,22],\r\n",
        "        [11,17,19,23],\r\n",
        "        [17,14,20,28]]"
      ],
      "execution_count": 14,
      "outputs": []
    },
    {
      "cell_type": "code",
      "metadata": {
        "colab": {
          "base_uri": "https://localhost:8080/"
        },
        "id": "xT7N_n4qmHRF",
        "outputId": "f09f5f9a-de66-447d-df58-6a82fd10b8ae"
      },
      "source": [
        "def valorDef(S,costes):\r\n",
        "  valor = 0\r\n",
        "  for i in range(len(S)):\r\n",
        "    valor += costes[S[i]][i] \r\n",
        "  return valor\r\n",
        "  \r\n",
        "valorDef((0, 1, 2, 3  ),costes)"
      ],
      "execution_count": 15,
      "outputs": [
        {
          "output_type": "execute_result",
          "data": {
            "text/plain": [
              "73"
            ]
          },
          "metadata": {
            "tags": []
          },
          "execution_count": 15
        }
      ]
    },
    {
      "cell_type": "code",
      "metadata": {
        "colab": {
          "base_uri": "https://localhost:8080/"
        },
        "id": "LH0DyaF1mSXA",
        "outputId": "1b244a1d-24b3-49a2-d3e9-2f175c38d64b"
      },
      "source": [
        "def costeInferior(S,costes):\r\n",
        "  valor = 0\r\n",
        "  #Valores establecidos\r\n",
        "  for i in range(len(S)):\r\n",
        "    valor += costes[i][S[i]]\r\n",
        "\r\n",
        "  #Estimacion\r\n",
        "  for i in range( len(S), len(costes)   ):\r\n",
        "    valor += min( [ costes[j][i] for j in range(len(S), len(costes))  ])\r\n",
        "  return valor\r\n",
        "\r\n",
        "def costeSuperior(S,costes):\r\n",
        "  valor = 0\r\n",
        "  #Valores establecidos\r\n",
        "  for i in range(len(S)):\r\n",
        "    valor += costes[i][S[i]]\r\n",
        "\r\n",
        "  #Estimacion\r\n",
        "  for i in range( len(S), len(costes)   ):\r\n",
        "    valor += max( [ costes[j][i] for j in range(len(S), len(costes))  ])\r\n",
        "  return valor\r\n",
        "\r\n",
        "costeSuperior((0,1),costes)"
      ],
      "execution_count": 17,
      "outputs": [
        {
          "output_type": "execute_result",
          "data": {
            "text/plain": [
              "74"
            ]
          },
          "metadata": {
            "tags": []
          },
          "execution_count": 17
        }
      ]
    },
    {
      "cell_type": "code",
      "metadata": {
        "id": "dJ1rWi5dms0Z"
      },
      "source": [
        "def crearHijos(nodo, N):\r\n",
        "  hijos = []\r\n",
        "  for i in range(N ):\r\n",
        "    if i not in nodo:\r\n",
        "      hijos.append({'s':nodo +(i,)    })\r\n",
        "  return hijos"
      ],
      "execution_count": 18,
      "outputs": []
    },
    {
      "cell_type": "code",
      "metadata": {
        "colab": {
          "base_uri": "https://localhost:8080/"
        },
        "id": "a1HUzl6Im5A6",
        "outputId": "8501eb8c-3b89-4452-f0e3-882da0fbfc4f"
      },
      "source": [
        "def ramificacionPoda(costes):\r\n",
        "  dimension = len(costes)  \r\n",
        "  mejorSolucion=tuple( i for i in range(len(costes)) )\r\n",
        "  CotaSup = valorDef(mejorSolucion,costes)\r\n",
        "  #print(\"Cota Superior:\", CotaSup)\r\n",
        "\r\n",
        "  nodos=[]\r\n",
        "  nodos.append({'s':(), 'ci':costeInferior((),costes)    } )\r\n",
        "\r\n",
        "  iteracion = 0\r\n",
        "\r\n",
        "  while( len(nodos) > 0):\r\n",
        "    iteracion +=1\r\n",
        "\r\n",
        "    nodo_prometedor = [ min(nodos, key=lambda x:x['ci']) ][0]['s']\r\n",
        "\r\n",
        "    hijos =[ {'s':x['s'], 'ci':costeInferior(x['s'], costes)   } for x in crearHijos(nodo_prometedor, dimension) ]\r\n",
        "\r\n",
        "    #Revisamos la cota superior y nos quedamos con la mejor solucion si llegamos a una solucion final\r\n",
        "    nodoFinal = [x for x in hijos if len(x['s']) == dimension  ]\r\n",
        "    if len(nodoFinal ) >0: \r\n",
        "       if nodoFinal[0]['ci'] < CotaSup:\r\n",
        "        CotaSup = nodoFinal[0]['ci']\r\n",
        "        mejorSolucion = nodoFinal\r\n",
        "\r\n",
        "    hijos = [x for x in hijos if x['ci'] < CotaSup   ]\r\n",
        "\r\n",
        "    nodos.extend(hijos) \r\n",
        "\r\n",
        "    nodos =  [  x for x in nodos if x['s'] != nodo_prometedor    ]\r\n",
        "   \r\n",
        "  print(\"La solucion final es:\" ,mejorSolucion , \" en \" , iteracion , \" iteraciones\" , \" para dimension: \" ,dimension  )\r\n",
        "      \r\n",
        "\r\n",
        "\r\n",
        "ramificacionPoda(costes)"
      ],
      "execution_count": 23,
      "outputs": [
        {
          "output_type": "stream",
          "text": [
            "La solucion final es: [{'s': (1, 2, 0, 3), 'ci': 64}]  en  10  iteraciones  para dimension:  4\n"
          ],
          "name": "stdout"
        }
      ]
    },
    {
      "cell_type": "markdown",
      "metadata": {
        "id": "2C0Z9XYoouvO"
      },
      "source": [
        "## Descenso del Gradiente"
      ]
    },
    {
      "cell_type": "code",
      "metadata": {
        "id": "PiZV2MrQo4TP"
      },
      "source": [
        "import math                     \r\n",
        "import matplotlib.pyplot as plt  \r\n",
        "import numpy as np               \r\n",
        "\r\n",
        "import random"
      ],
      "execution_count": 24,
      "outputs": []
    },
    {
      "cell_type": "code",
      "metadata": {
        "id": "bXynX9Z7o_8-"
      },
      "source": [
        "f  = lambda X:      X[0]**2+X[1]**2      \r\n",
        "df = lambda X: [2*X[0] , 2*X[1]]        "
      ],
      "execution_count": 25,
      "outputs": []
    },
    {
      "cell_type": "code",
      "metadata": {
        "colab": {
          "base_uri": "https://localhost:8080/",
          "height": 303
        },
        "id": "m49lPDtvpE_c",
        "outputId": "5a70ea04-d223-43a2-c672-8586ebd05768"
      },
      "source": [
        "\r\n",
        "resolucion = 100 \r\n",
        "rango=2.5\r\n",
        "X=np.linspace(-rango,rango,resolucion) \r\n",
        "Y=np.linspace(-rango,rango,resolucion)\r\n",
        "Z=np.zeros((resolucion,resolucion))\r\n",
        "for ix,x in enumerate(X):\r\n",
        "  for iy,y in enumerate(Y):\r\n",
        "    Z[iy,ix] = f([x,y])\r\n",
        "\r\n",
        "plt.contourf(X,Y,Z,resolucion)\r\n",
        "plt.colorbar() \r\n",
        "\r\n",
        "P=[random.uniform(-2,2  ),random.uniform(-2,2 ) ]\r\n",
        "plt.plot(P[0],P[1],\"o\",c=\"white\")\r\n",
        "\r\n",
        "TA=.1 \r\n",
        "\r\n",
        "for _ in range(500):\r\n",
        "  grad = df(P)\r\n",
        "  #print(P,grad)\r\n",
        "  P[0],P[1] = P[0] - TA*grad[0] , P[1] - TA*grad[1]\r\n",
        "  plt.plot(P[0],P[1],\"o\",c=\"red\")\r\n",
        "\r\n",
        "plt.plot(P[0],P[1],\"o\",c=\"green\")\r\n",
        "plt.show()\r\n",
        "print(\"Solucion:\" , P , f(P))"
      ],
      "execution_count": 26,
      "outputs": [
        {
          "output_type": "display_data",
          "data": {
            "image/png": "[encoded data removed]",
            "text/plain": [
              "<Figure size 432x288 with 2 Axes>"
            ]
          },
          "metadata": {
            "tags": [],
            "needs_background": "light"
          }
        },
        {
          "output_type": "stream",
          "text": [
            "Solucion: [1.1849502080443532e-49, 6.325650227274049e-49] 4.1417957793356577e-97\n"
          ],
          "name": "stdout"
        }
      ]
    }
  ]
}