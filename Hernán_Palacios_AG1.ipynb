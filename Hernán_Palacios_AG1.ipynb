{
  "nbformat": 4,
  "nbformat_minor": 0,
  "metadata": {
    "colab": {
      "name": "Hernán Palacios - AG1.ipynb",
      "provenance": [],
      "collapsed_sections": [],
      "authorship_tag": "ABX9TyPPacfUlYb7MmtIsFTSndZr",
      "include_colab_link": true
    },
    "kernelspec": {
      "name": "python3",
      "display_name": "Python 3"
    }
  },
  "cells": [
    {
      "cell_type": "markdown",
      "metadata": {
        "id": "view-in-github",
        "colab_type": "text"
      },
      "source": [
        "<a href=\"https://colab.research.google.com/github/Pepperychef/algoritmos-optimizacion-2020/blob/main/Hern%C3%A1n_Palacios_AG1.ipynb\" target=\"_parent\"><img src=\"https://colab.research.google.com/assets/colab-badge.svg\" alt=\"Open In Colab\"/></a>"
      ]
    },
    {
      "cell_type": "markdown",
      "metadata": {
        "id": "kBkCv2_Lvs5h"
      },
      "source": [
        "#Actividad Guiada 1 de Algoritmos de Optimizacion\r\n",
        "Hernán Palacios Domínguez\r\n",
        "\r\n",
        "https://colab.research.google.com/drive/10Hz9DNKmLtvi04fcfM9Ew55eL9Q386PD?usp=sharing\r\n",
        "\r\n",
        "https://github.com/Pepperychef/algoritmos-optimizacion-2020\r\n"
      ]
    },
    {
      "cell_type": "markdown",
      "metadata": {
        "id": "prhkn5a0JbBq"
      },
      "source": [
        "## Torres de Hanoi con Divide y Vencerás"
      ]
    },
    {
      "cell_type": "code",
      "metadata": {
        "colab": {
          "base_uri": "https://localhost:8080/"
        },
        "id": "G_H36o_PJgWS",
        "outputId": "0717af90-c8ae-4b2b-9a8c-81b564a62574"
      },
      "source": [
        "def torresHanoi(N, desde, hasta):\r\n",
        "  if N==1 :\r\n",
        "    print(\"lleva la ficha\" , desde , \"hasta\" ,hasta)\r\n",
        "  else:\r\n",
        "    torresHanoi(N-1, desde, 6-desde-hasta)\r\n",
        "    print(\"lleva la ficha\" , desde , \"hasta\" ,hasta)\r\n",
        "    torresHanoi(N-1, 6-desde-hasta, hasta)\r\n",
        "\r\n",
        "torresHanoi(6 ,1 ,3)"
      ],
      "execution_count": 2,
      "outputs": [
        {
          "output_type": "stream",
          "text": [
            "lleva la ficha 1 hasta 2\n",
            "lleva la ficha 1 hasta 3\n",
            "lleva la ficha 2 hasta 3\n",
            "lleva la ficha 1 hasta 2\n",
            "lleva la ficha 3 hasta 1\n",
            "lleva la ficha 3 hasta 2\n",
            "lleva la ficha 1 hasta 2\n",
            "lleva la ficha 1 hasta 3\n",
            "lleva la ficha 2 hasta 3\n",
            "lleva la ficha 2 hasta 1\n",
            "lleva la ficha 3 hasta 1\n",
            "lleva la ficha 2 hasta 3\n",
            "lleva la ficha 1 hasta 2\n",
            "lleva la ficha 1 hasta 3\n",
            "lleva la ficha 2 hasta 3\n",
            "lleva la ficha 1 hasta 2\n",
            "lleva la ficha 3 hasta 1\n",
            "lleva la ficha 3 hasta 2\n",
            "lleva la ficha 1 hasta 2\n",
            "lleva la ficha 3 hasta 1\n",
            "lleva la ficha 2 hasta 3\n",
            "lleva la ficha 2 hasta 1\n",
            "lleva la ficha 3 hasta 1\n",
            "lleva la ficha 3 hasta 2\n",
            "lleva la ficha 1 hasta 2\n",
            "lleva la ficha 1 hasta 3\n",
            "lleva la ficha 2 hasta 3\n",
            "lleva la ficha 1 hasta 2\n",
            "lleva la ficha 3 hasta 1\n",
            "lleva la ficha 3 hasta 2\n",
            "lleva la ficha 1 hasta 2\n",
            "lleva la ficha 1 hasta 3\n",
            "lleva la ficha 2 hasta 3\n",
            "lleva la ficha 2 hasta 1\n",
            "lleva la ficha 3 hasta 1\n",
            "lleva la ficha 2 hasta 3\n",
            "lleva la ficha 1 hasta 2\n",
            "lleva la ficha 1 hasta 3\n",
            "lleva la ficha 2 hasta 3\n",
            "lleva la ficha 2 hasta 1\n",
            "lleva la ficha 3 hasta 1\n",
            "lleva la ficha 3 hasta 2\n",
            "lleva la ficha 1 hasta 2\n",
            "lleva la ficha 3 hasta 1\n",
            "lleva la ficha 2 hasta 3\n",
            "lleva la ficha 2 hasta 1\n",
            "lleva la ficha 3 hasta 1\n",
            "lleva la ficha 2 hasta 3\n",
            "lleva la ficha 1 hasta 2\n",
            "lleva la ficha 1 hasta 3\n",
            "lleva la ficha 2 hasta 3\n",
            "lleva la ficha 1 hasta 2\n",
            "lleva la ficha 3 hasta 1\n",
            "lleva la ficha 3 hasta 2\n",
            "lleva la ficha 1 hasta 2\n",
            "lleva la ficha 1 hasta 3\n",
            "lleva la ficha 2 hasta 3\n",
            "lleva la ficha 2 hasta 1\n",
            "lleva la ficha 3 hasta 1\n",
            "lleva la ficha 2 hasta 3\n",
            "lleva la ficha 1 hasta 2\n",
            "lleva la ficha 1 hasta 3\n",
            "lleva la ficha 2 hasta 3\n"
          ],
          "name": "stdout"
        }
      ]
    },
    {
      "cell_type": "markdown",
      "metadata": {
        "id": "9B48SRZqJuyw"
      },
      "source": [
        "## Devolución de Cambio por Técnica Voraz"
      ]
    },
    {
      "cell_type": "code",
      "metadata": {
        "colab": {
          "base_uri": "https://localhost:8080/"
        },
        "id": "lQcv6i5WJ601",
        "outputId": "b0f7e310-d40c-493f-8b12-7d9a61bf4663"
      },
      "source": [
        "#Usando el sistema monetario chileno\r\n",
        "def cambioMonedas(N, SM):\r\n",
        " valorAcumulado=0\r\n",
        " solution=[0]*len(SM)\r\n",
        " for i,valor in enumerate(SM):\r\n",
        "   monedas=int ((N-valorAcumulado)/valor) \r\n",
        "   solution[i]=monedas\r\n",
        "   valorAcumulado=valorAcumulado+monedas*valor\r\n",
        "   if valorAcumulado ==N:\r\n",
        "     return solution\r\n",
        "\r\n",
        "cambioMonedas(5430280 , [20000 ,10000 ,5000 ,2000 ,1000 ,500, 100 , 50, 10])"
      ],
      "execution_count": 4,
      "outputs": [
        {
          "output_type": "execute_result",
          "data": {
            "text/plain": [
              "[271, 1, 0, 0, 0, 0, 2, 1, 3]"
            ]
          },
          "metadata": {
            "tags": []
          },
          "execution_count": 4
        }
      ]
    },
    {
      "cell_type": "markdown",
      "metadata": {
        "id": "6OkabS4WLMAf"
      },
      "source": [
        "## N-Reinas por Técnica de Vuelta Atrás"
      ]
    },
    {
      "cell_type": "code",
      "metadata": {
        "id": "LEbCR6quLSgV"
      },
      "source": [
        "def esPrometedora(solution,etapa):\r\n",
        "\r\n",
        "  for i in range(etapa+1):\r\n",
        "    \r\n",
        "    if solution.count(solution[i]) > 1:       \r\n",
        "      return False \r\n",
        "  \r\n",
        "    #Verifica las diagonales\r\n",
        "    for j in range(i+1, etapa +1 ):\r\n",
        "      if abs(i-j) == abs(solution[i]-solution[j]) : \r\n",
        "        return False\r\n",
        "  return True\r\n",
        "\r\n",
        "def escribe(S): \r\n",
        "  n = len(S)\r\n",
        "  for x in range(n):\r\n",
        "    print(\"\")\r\n",
        "    for i in range(n):\r\n",
        "      if solution[i] == x+1:\r\n",
        "        print(\" X \" , end=\"\")     #Cuando es Reina\r\n",
        "      else:\r\n",
        "        print(\" - \", end=\"\")      #Cuando no es Reina\r\n",
        "\r\n",
        "\r\n",
        "def reinas(n,solution,etapa): #Tamaño del tablero, 4X4\r\n",
        "  \r\n",
        "  for i in range(1,n+1):\r\n",
        "    \r\n",
        "    solution[etapa] = i\r\n",
        "    \r\n",
        "   \r\n",
        "    if esPrometedora(solution,etapa):\r\n",
        "      if etapa == n-1 :\r\n",
        "        print(\"\\n\\nLa solución es:\")\r\n",
        "        print(solution)\r\n",
        "        escribe(solution)\r\n",
        "        \r\n",
        "      else:\r\n",
        "        reinas(n,solution,etapa+1)\r\n",
        "    else:\r\n",
        "      None\r\n",
        "    solution[etapa] = 0"
      ],
      "execution_count": 5,
      "outputs": []
    },
    {
      "cell_type": "code",
      "metadata": {
        "colab": {
          "base_uri": "https://localhost:8080/"
        },
        "id": "fyyeXnBqMhfZ",
        "outputId": "65fefae1-78ab-46af-bdfc-d1f874b99604"
      },
      "source": [
        "n=4\r\n",
        "solution = [0 for i in range(n) ]\r\n",
        "reinas(n,solution,0)"
      ],
      "execution_count": 7,
      "outputs": [
        {
          "output_type": "stream",
          "text": [
            "\n",
            "\n",
            "La solución es:\n",
            "[2, 4, 1, 3]\n",
            "\n",
            " -  -  X  - \n",
            " X  -  -  - \n",
            " -  -  -  X \n",
            " -  X  -  - \n",
            "\n",
            "La solución es:\n",
            "[3, 1, 4, 2]\n",
            "\n",
            " -  X  -  - \n",
            " -  -  -  X \n",
            " X  -  -  - \n",
            " -  -  X  - "
          ],
          "name": "stdout"
        }
      ]
    },
    {
      "cell_type": "markdown",
      "metadata": {
        "id": "TbhEZ-_eOSF0"
      },
      "source": [
        "## Los puntos más cercanos (Fuerza Bruta)"
      ]
    },
    {
      "cell_type": "code",
      "metadata": {
        "colab": {
          "base_uri": "https://localhost:8080/"
        },
        "id": "0q-sQa8WOLru",
        "outputId": "74da4b09-44fc-4cfe-90d1-d448ddb62ccd"
      },
      "source": [
        "import numpy as np\r\n",
        "def puntoCercano1d(target, points):\r\n",
        "    n = points[0] \r\n",
        "    ndif = abs(target - n) \r\n",
        "    for i in range(1, len(points)): \r\n",
        "        nn = abs(target - points[i]) \r\n",
        "        if nn < ndif: \r\n",
        "            ndif = nn \r\n",
        "            n = points[i] \r\n",
        "\r\n",
        "    return n \r\n",
        "\r\n",
        "listaNumpy1D = np.random.random(1000)\r\n",
        "puntoCercano1d(0.1, listaNumpy1D)"
      ],
      "execution_count": 13,
      "outputs": [
        {
          "output_type": "execute_result",
          "data": {
            "text/plain": [
              "0.09978707855847724"
            ]
          },
          "metadata": {
            "tags": []
          },
          "execution_count": 13
        }
      ]
    },
    {
      "cell_type": "markdown",
      "metadata": {
        "id": "84xIqUCsWRwz"
      },
      "source": [
        "## Los puntos más cercanos (Dvide y Vencerás) "
      ]
    },
    {
      "cell_type": "code",
      "metadata": {
        "colab": {
          "base_uri": "https://localhost:8080/"
        },
        "id": "5UkXzxEPWiLw",
        "outputId": "873cd8e0-ae3b-4e9a-8f53-0dec4b4d0bdf"
      },
      "source": [
        "def puntoCercanoDivide(target, points):\r\n",
        "    arr = np.array_split(points, 2)\r\n",
        "    if len(arr[1]) == 0:\r\n",
        "        return points[0]\r\n",
        "\r\n",
        "    dist1 = abs(target - arr[0][-1])\r\n",
        "    dist2 = abs(target - arr[1][0])\r\n",
        "\r\n",
        "    return puntoCercanoDivide(target,\r\n",
        "        arr[1] if dist2 < dist1 else arr[0])\r\n",
        "\r\n",
        "\r\n",
        "listaNumpy1D = np.random.random(1000000)\r\n",
        "listaNumpy1D = np.sort(listaNumpy1D)\r\n",
        "puntoCercanoDivide(0.3, listaNumpy1D)"
      ],
      "execution_count": 14,
      "outputs": [
        {
          "output_type": "execute_result",
          "data": {
            "text/plain": [
              "0.30000023243183693"
            ]
          },
          "metadata": {
            "tags": []
          },
          "execution_count": 14
        }
      ]
    },
    {
      "cell_type": "markdown",
      "metadata": {
        "id": "9BwrbwuIW6WQ"
      },
      "source": [
        "## Los puntos más cercanos (Divide y Vencerás)  (2D)"
      ]
    },
    {
      "cell_type": "code",
      "metadata": {
        "colab": {
          "base_uri": "https://localhost:8080/",
          "height": 318
        },
        "id": "1guKxIicXCe9",
        "outputId": "e4438236-57f4-46a7-a284-a3fa6fce5db1"
      },
      "source": [
        "import matplotlib.pyplot as plt\r\n",
        "\r\n",
        "def distancia(point1, point2):\r\n",
        "    return np.linalg.norm(point1 - point2)\r\n",
        "\r\n",
        "\r\n",
        "def puntoCercanoDDivide(target, points):\r\n",
        "    arr = np.array_split(points, 2)\r\n",
        "    if len(arr[1]) == 0:\r\n",
        "        return points[0]\r\n",
        "\r\n",
        "    dist1 = distancia(target, arr[0][-1])\r\n",
        "    dist2 = distancia(target, arr[1][0])\r\n",
        "\r\n",
        "    return puntoCercanoDDivide(target,\r\n",
        "        arr[1] if dist2 < dist1 else arr[0])\r\n",
        "\r\n",
        "\r\n",
        "listaNumpy2D = np.random.rand(200, 2)\r\n",
        "listaNumpy2D = np.sort(listaNumpy2D, axis=0)\r\n",
        "target = np.array([0.5, 0.5])\r\n",
        "c = list(map(lambda x: distancia(target, x), listaNumpy2D))\r\n",
        "\r\n",
        "plt.plot(c)\r\n",
        "plt.title('Distancias {}'.format(target))\r\n",
        "print('\\nPunto Cercano: {}'.format(puntoCercanoDDivide(target, listaNumpy2D)))"
      ],
      "execution_count": 17,
      "outputs": [
        {
          "output_type": "stream",
          "text": [
            "\n",
            "Punto Cercano: [0.50371924 0.46951705]\n"
          ],
          "name": "stdout"
        },
        {
          "output_type": "display_data",
          "data": {
            "image/png": "[encoded data removed]",
            "text/plain": [
              "<Figure size 432x288 with 1 Axes>"
            ]
          },
          "metadata": {
            "tags": [],
            "needs_background": "light"
          }
        }
      ]
    },
    {
      "cell_type": "markdown",
      "metadata": {
        "id": "Cj1qDQYoXlhw"
      },
      "source": [
        "## Los puntos más cercanos (Divide y Vencerás) (3D)"
      ]
    },
    {
      "cell_type": "code",
      "metadata": {
        "colab": {
          "base_uri": "https://localhost:8080/",
          "height": 318
        },
        "id": "VUXQC2NKXvWr",
        "outputId": "db437085-cdff-4019-af4a-9cb36db4f471"
      },
      "source": [
        "listaNumpy3D = np.random.rand(200, 3)\r\n",
        "listaNumpy3D = np.sort(listaNumpy3D, axis=0)\r\n",
        "target = np.array([0.5, 0.5, 0.5])\r\n",
        "c = list(map(lambda x: distancia(target, x), listaNumpy3D))\r\n",
        "\r\n",
        "plt.plot(c)\r\n",
        "plt.title('Distancias {}'.format(target))\r\n",
        "print('\\npunto cercano: {}'.format(puntoCercanoDDivide(target, listaNumpy3D)))"
      ],
      "execution_count": 20,
      "outputs": [
        {
          "output_type": "stream",
          "text": [
            "\n",
            "punto cercano: [0.56993102 0.48444281 0.51888331]\n"
          ],
          "name": "stdout"
        },
        {
          "output_type": "display_data",
          "data": {
            "image/png": "[encoded data removed]",
            "text/plain": [
              "<Figure size 432x288 with 1 Axes>"
            ]
          },
          "metadata": {
            "tags": [],
            "needs_background": "light"
          }
        }
      ]
    }
  ]
}