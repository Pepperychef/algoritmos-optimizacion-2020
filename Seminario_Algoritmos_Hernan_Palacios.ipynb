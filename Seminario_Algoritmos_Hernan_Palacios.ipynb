{
  "nbformat": 4,
  "nbformat_minor": 0,
  "metadata": {
    "colab": {
      "name": "Seminario_Algoritmos_Hernan_Palacios.ipynb",
      "provenance": [],
      "collapsed_sections": [],
      "include_colab_link": true
    },
    "kernelspec": {
      "name": "python3",
      "display_name": "Python 3",
      "language": "python"
    }
  },
  "cells": [
    {
      "cell_type": "markdown",
      "metadata": {
        "id": "view-in-github",
        "colab_type": "text"
      },
      "source": [
        "<a href=\"https://colab.research.google.com/github/Pepperychef/algoritmos-optimizacion-2020/blob/main/Seminario_Algoritmos_Hernan_Palacios.ipynb\" target=\"_parent\"><img src=\"https://colab.research.google.com/assets/colab-badge.svg\" alt=\"Open In Colab\"/></a>"
      ]
    },
    {
      "cell_type": "markdown",
      "metadata": {
        "id": "hVbXYX-RfPWh"
      },
      "source": [
        "# Algoritmos de optimización - Seminario<br>\n",
        "Nombre y Apellidos:   Hernán Palacios<br>\n",
        "Url: https://github.com/.../03MAIR---Algoritmos-de-Optimizacion---2019/tree/master/SEMINARIO<br>\n",
        "Problema:\n",
        ">3. Combinar cifras y operaciones\n",
        "\n",
        "Descripción del problema:(copiar enunciado)\n",
        "\n",
        "....\n",
        "\n",
        "(*) La respuesta es obligatoria\n",
        "\n",
        "\n",
        "\n",
        "\n",
        "\n",
        "                                        "
      ]
    },
    {
      "cell_type": "markdown",
      "metadata": {
        "id": "AiskKkzZfy4e"
      },
      "source": [
        "Problema 3. Combinar cifras y operaciones. Enunciado\n",
        "\n",
        "- El problema consiste en analizar el siguiente problema y diseñar un algoritmo que lo resuelva.\n",
        "\n",
        "- Disponemos de las 9 cifras del 1 al 9 (excluimos el cero) y de los 4 signos básicos de las operaciones fundamentales: suma(+), resta(-), multiplicación(*) y división(/)\n",
        "\n",
        "- Debemos combinarlos alternativamente sin repetir ninguno de ellos para obtener una cantidad dada. Un ejemplo sería para obtener el 4:\n",
        "\n",
        "  4+2-6/3*1 = 4\n",
        "\n",
        "- Debe analizarse el problema para encontrar todos los valores enteros posibles planteando las siguientes cuestiones:\n",
        "  - ¿Qué valor máximo y mínimo se pueden obtener según las condiciones del problema?\n",
        "  - ¿Es posible encontrar todos los valores enteros posibles entre dicho mínimo y máximo ?\n"
      ]
    },
    {
      "cell_type": "code",
      "metadata": {
        "id": "eWUzyoDnJzDE",
        "outputId": "7ec62233-6ca9-4e2b-aa74-d0a76592b9e7"
      },
      "source": [
        "from itertools import permutations\n",
        "import math\n",
        "\n",
        "operadores = [\"+\", \"-\", \"*\", \"/\"]\n",
        "numeros = [1,2,3,4,5,6,7,8,9]\n",
        "\n",
        "def test(valor):\n",
        "    maximo = 0\n",
        "    minimo = 0\n",
        "    total_enteros = 0\n",
        "    for n in permutations(numeros, 5):\n",
        "        for ops in permutations(operadores):\n",
        "            i=0\n",
        "            formula = ''\n",
        "            for numero in n:\n",
        "                if i<=3 :\n",
        "                    formula += str(numero) + ops[i]\n",
        "                    i += 1\n",
        "                else:\n",
        "                    formula += str(numero)\n",
        "            decimal, entero = math.modf(eval(formula))\n",
        "            if decimal == 0 :\n",
        "                total_enteros = total_enteros +1\n",
        "                if entero < minimo :\n",
        "                    minimo = eval(formula)\n",
        "                if entero > maximo:\n",
        "                    maximo = eval(formula)\n",
        "\n",
        "    print(f\"Valor Minimo = {minimo}\\n\")\n",
        "    print(f\"Valor Máximo = {maximo}\\n\")\n",
        "    print(f\"Total de valores entre minimo y maximo = {total_enteros}\\n\")\n",
        "    return None\n",
        "    \n",
        "\n",
        "\n",
        "test(0)"
      ],
      "execution_count": null,
      "outputs": [
        {
          "output_type": "stream",
          "text": [
            "Valor Minimo = -69.0\n",
            "\n",
            "Valor Máximo = 77.0\n",
            "\n",
            "Total de valores entre minimo y maximo = 90000\n",
            "\n"
          ],
          "name": "stdout"
        }
      ]
    },
    {
      "cell_type": "markdown",
      "metadata": {
        "id": "3_-exlrTgLd-"
      },
      "source": [
        "(*)¿Cuantas posibilidades hay sin tener en cuenta las restricciones?<br>\n",
        "\n",
        "\n",
        "\n",
        "¿Cuantas posibilidades hay teniendo en cuenta todas las restricciones.\n",
        "\n",
        "\n"
      ]
    },
    {
      "cell_type": "markdown",
      "metadata": {
        "id": "WfCUqJyKhPcw"
      },
      "source": [
        "Respuesta"
      ]
    },
    {
      "cell_type": "markdown",
      "metadata": {
        "id": "iq6Fe32MgpDX"
      },
      "source": [
        "Sin Tomar en cuenta las Restricciones:\n",
        "\n",
        "En base al ejemplo tenemos que de los numeros que van del 1 al 9 (no tomamos en cuenta al 0), que tienen 5 posibles combinaciones para cumplir el uso de los operadores. Y de la misma base tenemos que son 4 operadores con 4 posibles combinaciones, lo que nos deja la siguiende deducción:\n",
        "\n",
        "$Posibilidades = 9^5 \\cdot 4^4 = 15.116.544$\n",
        "\n",
        "Tomando en cuenta las Restricciones:\n",
        "\n",
        "Según el enunciado no se deben repetir ni los números ni los operadores, de esta forma calculamos las posibilidades tomando en cuenta que según la teoria, la forma de calcularlo es: \n",
        "\n",
        "$V_k^n=\\frac{n!}{(n-k)!}$\n",
        "\n",
        "* Las 4 combinaciones ($k=4$) de las 4 operaciones ($k=4$) eqivalen a : $4!$/$0!$\n",
        "\n",
        "* Las 5 combinaciones ($k=5$) de los 9 números ($k=9$) equivalen a: $9!/4!$\n",
        "\n",
        "lo que nos lleva a la siguiente operación: \n",
        "\n",
        "$Posibilidades = \\frac{9!}{4!}\\cdot\\frac{4!}{0!}=362.880$\n",
        "\n",
        "\n"
      ]
    },
    {
      "cell_type": "markdown",
      "metadata": {
        "id": "dzynfVJahHoY"
      },
      "source": [
        "Modelo para el espacio de soluciones<br>\n",
        "(*) ¿Cual es la estructura de datos que mejor se adapta al problema? Argumentalo.(Es posible que hayas elegido una al principio y veas la necesidad de cambiar, arguentalo)\n"
      ]
    },
    {
      "cell_type": "markdown",
      "metadata": {
        "id": "xFIJrOwKi2Ti"
      },
      "source": [
        "Respuesta"
      ]
    },
    {
      "cell_type": "markdown",
      "metadata": {
        "id": "38c-7-ejhJmA"
      },
      "source": [
        "Al final he elejido la opción de tener dos listas separadas, una para los numeros y otra para los operadores, sobre todo porque da la libertad de poder complejizar el algoritmo a largo plazo ya que no es una estructura rigida y tambien al ser un tipo de dato sencillo de entender e implementar tambien es sencillo de explicar y probar. Con esto Tomando esto en cuenta Seria una lista de Cadenas de caracteres para representar los operadores (operadores = \\[\"+\", \"-\",\"*\",\"/\"\\]) y una lista de valores enteros para los numeros (numeros = \\[1,2,3,4,5,6,7,8,9\\])"
      ]
    },
    {
      "cell_type": "markdown",
      "metadata": {
        "id": "7Z9U2W7bi-XS"
      },
      "source": [
        "Según el modelo para el espacio de soluciones<br>\n",
        "(*)¿Cual es la función objetivo?\n",
        "\n",
        "(*)¿Es un problema de maximización o minimización?"
      ]
    },
    {
      "cell_type": "markdown",
      "metadata": {
        "id": "hBalWLM7j1_d"
      },
      "source": [
        "Respuesta"
      ]
    },
    {
      "cell_type": "markdown",
      "metadata": {
        "id": "pDA-rg3Gj5Lz"
      },
      "source": [
        "La función objetivo es buscar las combinaciones que puedan dar un numero determinado como resultado.\n",
        "\n",
        "El problema no es ni de Maximización ni de Minimización, es un problema de busqueda en el que nos piden encontrar todos los valores posibles"
      ]
    },
    {
      "cell_type": "markdown",
      "metadata": {
        "id": "rlnTYgY1j6I2"
      },
      "source": [
        "Diseña un algoritmo para resolver el problema por fuerza bruta"
      ]
    },
    {
      "cell_type": "markdown",
      "metadata": {
        "id": "70rDgxYXkC8r"
      },
      "source": [
        "Respuesta"
      ]
    },
    {
      "cell_type": "code",
      "metadata": {
        "id": "CJb5sQ0qkENy",
        "tags": [],
        "outputId": "3e7b9b26-225f-4676-f125-15593e111d20"
      },
      "source": [
        "\n",
        "def fuerza_bruta(valor):\n",
        "    resultado = {}\n",
        "    for n in permutations(numeros, 5):\n",
        "        for ops in permutations(operadores):\n",
        "            i=0\n",
        "            formula = ''\n",
        "            for numero in n:\n",
        "                if i<=3 :\n",
        "                    formula += str(numero) + ops[i]\n",
        "                    i += 1\n",
        "                else:\n",
        "                    formula += str(numero)\n",
        "            decimal, entero = math.modf(eval(formula))\n",
        "            if decimal == 0 :\n",
        "                if entero == valor :\n",
        "                    resultado[formula] = entero\n",
        "                    print(f\"{valor} = {list(resultado.keys())[0] }\\n\")\n",
        "                    return None\n",
        "    \n",
        "\n",
        "\n",
        "fuerza_bruta(16)\n",
        "\n",
        "fuerza_bruta(5)\n",
        "\n",
        "fuerza_bruta(-8)"
      ],
      "execution_count": null,
      "outputs": [
        {
          "output_type": "stream",
          "text": [
            "16 = 1-3+4/2*9\n",
            "\n",
            "5 = 1-2+3/4*8\n",
            "\n",
            "-8 = 1-2*6+9/3\n",
            "\n"
          ],
          "name": "stdout"
        }
      ]
    },
    {
      "cell_type": "markdown",
      "metadata": {
        "id": "tgrnsC2nkFa8"
      },
      "source": [
        "Calcula la complejidad del algoritmo por fuerza bruta"
      ]
    },
    {
      "cell_type": "markdown",
      "metadata": {
        "id": "9eUd3xwckP68"
      },
      "source": [
        "Respuesta"
      ]
    },
    {
      "cell_type": "markdown",
      "metadata": {
        "id": "rvZWwL-ckRST"
      },
      "source": [
        "El objetivo del algoritmo es conseguir el primer resultado que cumpla con las condiciones, para esto tenemos que recorrer 3 ciclos \"for\", con esto asumimos que la complejidad es de $O(n^3)$"
      ]
    },
    {
      "cell_type": "markdown",
      "metadata": {
        "id": "txbrmLmskReM"
      },
      "source": [
        "(*)Diseña un algoritmo que mejore la complejidad del algortimo por fuerza bruta. Argumenta porque crees que mejora el algoritmo por fuerza bruta"
      ]
    },
    {
      "cell_type": "markdown",
      "metadata": {
        "id": "hLrVwt5QkZPD"
      },
      "source": [
        "Respuesta"
      ]
    },
    {
      "cell_type": "code",
      "metadata": {
        "id": "m1eyM21Vkabg",
        "outputId": "2a24057a-2e65-409a-de51-620b2ff79aa3"
      },
      "source": [
        "\n",
        "def fuerza_bruta2(valor):\n",
        "    resultado = {}\n",
        "    for n in permutations(numeros, 5):\n",
        "        for ops in permutations(operadores):\n",
        "            i=0\n",
        "            formula = ''\n",
        "            formula += str(n[0]) + ops[0] + str(n[1]) + ops[1] + str(n[2]) + ops[2] + str(n[3]) + ops[3] + str(n[4])\n",
        "\n",
        "            decimal, entero = math.modf(eval(formula))\n",
        "            if decimal == 0 :\n",
        "                if entero == valor :\n",
        "                    resultado[formula] = entero\n",
        "                    print(f\"{valor} = {list(resultado.keys())[0] }\\n\")\n",
        "                    return None\n",
        "    \n",
        "\n",
        "\n",
        "fuerza_bruta2(16)\n",
        "\n",
        "fuerza_bruta2(5)\n",
        "\n",
        "fuerza_bruta2(-8)"
      ],
      "execution_count": null,
      "outputs": [
        {
          "output_type": "stream",
          "text": [
            "16 = 1-3+4/2*9\n",
            "\n",
            "5 = 1-2+3/4*8\n",
            "\n",
            "-8 = 1-2*6+9/3\n",
            "\n"
          ],
          "name": "stdout"
        }
      ]
    },
    {
      "cell_type": "markdown",
      "metadata": {
        "id": "eGDB4K6uk1iN"
      },
      "source": [
        "(*)Calcula la complejidad del algoritmo "
      ]
    },
    {
      "cell_type": "markdown",
      "metadata": {
        "id": "NhpTh_BPk1ms"
      },
      "source": [
        "Respuesta"
      ]
    },
    {
      "cell_type": "markdown",
      "metadata": {
        "id": "nREzhkStlCq8"
      },
      "source": [
        "No soy muy fan de esta forma de abordarlo, desde un punto de vista de programación evita la posibilidad de mejorar el algoritmo en un futuro ya que limitamos nuestras opciones al momento de usarlo. \n",
        "\n",
        "Pero, sabemos que según el enunciado lo que buscamos se trata de una operación de 5 digitos y 4 operadores. Así que podemos eliminar uno de los ciclos escribiendo directamente la predicción de la formula que vamos a testear.\n",
        "\n",
        "Haciendo esto reducimos el esfuerzo del computador para prosesar el algoritmo y de forma efectiva al eliminar un ciclo convertimos la complejidad en $O(n^2)$"
      ]
    },
    {
      "cell_type": "markdown",
      "metadata": {
        "id": "3M6QjTsSkmYe"
      },
      "source": [
        "Según el problema (y tenga sentido), diseña un juego de datos de entrada aleatorios"
      ]
    },
    {
      "cell_type": "markdown",
      "metadata": {
        "id": "Jc3_OlyNkvjZ"
      },
      "source": [
        "Respuesta"
      ]
    },
    {
      "cell_type": "markdown",
      "metadata": {
        "id": "sJ-N2etjkyWc"
      },
      "source": [
        "El unico objetivo que le veo a un set de datos aleatorios en este problema sería para testearlo.\n",
        "\n",
        "Bajo esa logica podemos hacer un set de datos aleatorios con limites"
      ]
    },
    {
      "cell_type": "markdown",
      "metadata": {
        "id": "qfVZfO9aJzDN"
      },
      "source": [
        "Aplica el algoritmo al juego de datos generado"
      ]
    },
    {
      "cell_type": "code",
      "metadata": {
        "id": "nrMFMS6WJzDO",
        "outputId": "b68048bc-94b1-4a59-8df3-006143cf46b0"
      },
      "source": [
        "import numpy as np\n",
        "i = 0\n",
        "while i <= 10:\n",
        "    i = i + 1\n",
        "    fuerza_bruta2(np.random.randint(-50,50))"
      ],
      "execution_count": null,
      "outputs": [
        {
          "output_type": "stream",
          "text": [
            "-38 = 1-6*7+9/3\n",
            "\n",
            "43 = 1+5*9-6/2\n",
            "\n",
            "-16 = 1+3-5/2*8\n",
            "\n",
            "46 = 1+6*8-9/3\n",
            "\n",
            "12 = 1+2*7-9/3\n",
            "\n",
            "-17 = 1+3-6/2*7\n",
            "\n",
            "-39 = 1+4/2-6*7\n",
            "\n",
            "30 = 1+4*8-6/2\n",
            "\n",
            "-46 = 3/1+5-6*9\n",
            "\n",
            "47 = 1-4/2+6*8\n",
            "\n",
            "42 = 1+5*9-8/2\n",
            "\n"
          ],
          "name": "stdout"
        }
      ]
    },
    {
      "cell_type": "markdown",
      "metadata": {
        "id": "eTFWUJQrtGcv"
      },
      "source": [
        "Enumera las referencias que has utilizado(si ha sido necesario) para llevar a cabo el trabajo"
      ]
    },
    {
      "cell_type": "markdown",
      "metadata": {
        "id": "YKQ_mRBttWsP"
      },
      "source": [
        "Respuesta"
      ]
    },
    {
      "cell_type": "markdown",
      "metadata": {
        "id": "NbB5QLHMJzDP"
      },
      "source": [
        "\n",
        "-Uso de permutaciones y generación.\n",
        "https://stackoverflow.com/questions/104420/how-to-generate-all-permutations-of-a-list"
      ]
    },
    {
      "cell_type": "markdown",
      "metadata": {
        "id": "kAkDPUyRtYyH"
      },
      "source": [
        "Describe brevemente las lineas de como crees que es posible avanzar en el estudio del problema. Ten en cuenta incluso posibles variaciones del problema y/o variaciones al alza del tamaño"
      ]
    },
    {
      "cell_type": "markdown",
      "metadata": {
        "id": "IE0uZmo-tZu-"
      },
      "source": [
        "Respuesta\n",
        "\n",
        "Creo que el principal problema que existe es que el problema solo toma en cuenta 4 operaciones.\n",
        "\n",
        "Desde mi punto de vista el algoritmo podria detectar otros tipos de operaciones y con esto aumentar la cantidad de operaciones, claro que con esto tambien podria determinarse un limite de tipo de operaciones que se puedan usar y darle un poco mas de versatilidad al algoritmo.\n",
        "\n",
        "Si de la misma forma podemos optimizar el algoritmo para que tenga una respuesta inmediata para los numeros que el algoritmo no pueda calcular asi podemos evitar que el algoritmo se ejecute cuanto se intenten calcular numeros imposibles\n",
        "\n",
        "Aunque admito que mi enfoque es en base a la experiencia de necesitar mejorar las funcionalidades de un algoritmo constantemente que en la optimización en si misma"
      ]
    }
  ]
}